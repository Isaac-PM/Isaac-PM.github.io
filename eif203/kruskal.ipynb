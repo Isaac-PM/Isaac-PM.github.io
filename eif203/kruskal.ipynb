{
 "cells": [
  {
   "cell_type": "markdown",
   "metadata": {},
   "source": [
    "# Investigación algoritmo de Kruskal\n",
    "\n",
    "### Estudiante: Isaac Fabián Palma Medina @ [](https://github.com/Isaac-PM)\n",
    "\n",
    "### Escuela de Infórmatica, Universidad Nacional de Costa Rica @ [](https://www.escinf.una.ac.cr/)\n",
    "\n",
    "### EIF203 NRC41713 Estructuras discretas para infórmatica\n",
    "\n",
    "### Docente: Dr. Carlos Loría Saénz @ [](loriacarlos@gmail.com)\n",
    "\n",
    "***\n",
    "\n",
    "# Noción\n",
    "\n",
    "El algoritmo de **Kruskal** es usado en la tarea de encontrar el *minimum spanning tree* (MST) de un grafo conectado no dirigido.<sup>1</sup>\n",
    "\n",
    "Un **MST** se trata de un subconjunto (conectado) de todos los vértices de un grafo, relacionados por medio arcos cuya suma de pesos debe ser la **menor posible**.<sup>2</sup>\n",
    "\n",
    "# Pasos<sup>1, 3</sup>\n",
    "\n",
    "1. Primeramente, los pesos de los arcos del grafo son ordenados de manera ascendente, visitando cada par de vértices y el arco que los conecta.\n",
    "2. Seguidamente se visualizan (escriben) los vértices sin sus arcos.\n",
    "3. Finalmente, son añadidos los arcos según el orden en el que fueron escritos, además de verificar que no se creen ciclos, hasta conseguir un grafo conectado. Es importante denotar que para la cantidad de vértices (|V|), son necesarios un máximo de |V| -  1 arcos.\n",
    "\n",
    "Bajo el proceso anterior la suma del peso de los arcos será la mínima posible, llegando a un MST.<sup>4</sup>\n",
    "\n",
    "# Implementación a mano\n",
    "\n",
    "## Dado el siguiente grafo\n",
    "\n",
    "<center><img src=\"/eif203/images/kruskal1.png\" width=\"\"/></center>\n",
    "\n",
    "## Paso 1 y 2: obtención de los pesos y ordenamiento\n",
    "\n",
    "<center><img src=\"/eif203/images/kruskal2.png\" width=\"\"/></center>\n",
    "\n",
    "## Paso 3:  conexión final\n",
    "\n",
    "<center><img src=\"/eif203/images/kruskal3.png\" width=\"\"/></center>\n",
    "\n",
    "\n",
    "\n",
    "\n",
    "\n",
    "\n",
    "# Implementación en código\n"
   ]
  },
  {
   "cell_type": "markdown",
   "metadata": {},
   "source": [
    "# Referencias\n",
    "\n",
    "1. Kruskal's algorithm. (2022). Recuperado de https://scanftree.com/Data_Structure/kruskal's-algorithm\n",
    "2. Minimum Spanning Tree Tutorials & Notes | Algorithms | HackerEarth. (2022). Recuperado de https://www.hackerearth.com/practice/algorithms/graphs/minimum-spanning-tree/tutorial\n",
    "3. Bari, A. (2018). 3.5 Prims and Kruskals Algorithms - Greedy Method. Youtube. Recuperado de https://www.youtube.com/watch?v=4ZlRH0eK-qQ\n",
    "4. Universitat Politècnica de València- Upv, U. P. (2013). S4.4- Algoritmo de Kruskal | | UPV. Youtube. Recuperado de https://www.youtube.com/watch?v=YHzllcQpEdA\n",
    "5. \n",
    "\n",
    "<center><sub><sup>Created using Jupyter Notebook, translated to HTML by using `jupyter nbconvert --to html .\\kruskal.ipynb` on Visual Studio Code v1.68</sup></sub></center>\n",
    "<center><sub><sup>Hosted in GitHub Pages @ [](https://isaac-palmed.xyz/)</sup></sub></center>"
   ]
  }
 ],
 "metadata": {
  "language_info": {
   "name": "python"
  },
  "orig_nbformat": 4
 },
 "nbformat": 4,
 "nbformat_minor": 2
}

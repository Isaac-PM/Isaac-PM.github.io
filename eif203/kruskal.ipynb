{
 "cells": [
  {
   "cell_type": "markdown",
   "metadata": {},
   "source": [
    "# EIF-203 Estructuras discretas para informática\n",
    "\n",
    "# Investigación algoritmo de Kruskal\n",
    "\n",
    "## Estudiante: Isaac Fabián Palma Medina 1-1865-0422\n",
    "\n",
    "## NRC 41713\n",
    "\n",
    "## Docente: Dr. Carlos Loría Saénz\n",
    "\n",
    "***\n",
    "\n",
    "<center><sub><sup>Created using Jupyter Notebook, translated to HTML by using <code>jupyter nbconvert --to html .\\kruskal.ipynb</code> on Visual Studio Code v1.68</sup></sub></center>\n",
    "\n",
    "<center><sub><sup>Available since 13/06/22 at 13:05, not publicly listed on host/</sup></sub></center>\n",
    "\n",
    "***\n",
    "\n",
    "# Noción\n",
    "\n",
    "- **El algoritmo de Kruskal** es usado en la tarea de encontrar el *minimum spanning tree* (MST) de un grafo (no dirigido) conectado.<sup>[1][3][11][12]</sup>\n",
    "- Un MST se trata de un subconjunto (conectado) de todos los vértices de un grafo, relacionados por medio arcos cuya **suma de pesos debe ser la menor posible**.<sup>[3][7]</sup>\n",
    "- El algoritmo toma su nombre de Joseph Kruskal (matemático y estadístico estadounidense), y fue publicado en 1956.<sup>[3]</sup>\n",
    "- Se trata de un algoritmo greedy.<sup>[11]</sup>\n",
    "\n",
    "***\n",
    "\n",
    "# Pasos generales\n",
    "\n",
    "1. Primeramente, los pesos de los arcos del grafo son ordenados de manera **ascendente**, visitando cada par de vértices y el arco que los conecta.<sup>[1][6][12][14]</sup>\n",
    "2. Seguidamente se visualizan (escriben) los **vértices sin sus arcos**.<sup>[1][6]</sup>\n",
    "3. Finalmente, son añadidos los arcos según el orden en el que fueron escritos, además de verificar que **no se creen ciclos** (si un arco generara un ciclo este se descarta y se continua con el siguiente), hasta conseguir un grafo conectado.<sup>[1][6][14]</sup> Es importante denotar que para la cantidad de vértices (|V|), son necesarios un máximo de |V| -  1 arcos.\n",
    "\n",
    "Bajo el proceso anterior la suma del peso de los arcos será la mínima posible, llegando a un MST.<sup>[7]</sup>\n",
    "\n",
    "## Sobre el paso 3 y la generación de ciclos\n",
    "\n",
    "Al tratar de añadir nuevos arcos al grafo se podrían generar **ciclos indeseados**, dicho problema puede ser detectado gracias al algoritmo *Union-Find*.  El algoritmo puede ser separado, por un lado una parte de búsqueda (*find*), encargada de determinar si los **elementos del arco a incluir se encuentran en el mismo subconjunto** (eso se desea evitar).<sup>[5][6][12]</sup>\n",
    "\n",
    "Además, de la parte encargada de la unión (*union*) de nuevos subconjuntos, dando lugar a uno nuevo.<sup>[5]</sup>\n",
    "\n",
    "***\n",
    "\n",
    "# Ejemplo ilustrativo\n",
    "\n",
    "\n",
    "\n",
    "***\n",
    "\n",
    "# Código en Python (test)\n",
    "\n",
    "\n",
    "\n"
   ]
  },
  {
   "cell_type": "markdown",
   "metadata": {},
   "source": [
    "# Referencias\n",
    "\n",
    "1. \n",
    "\n",
    "<center><sub><sup>Hosted on GitHub Pages @ https://isaac-palmed.xyz/</sup></sub></center>\n",
    "\n",
    "<center><sub><sup>Declaro de manera jurada que este trabajo fue elaborado por mi persona de manera estrictamente individual y que las fuentes usadas son las declaradas en la lámina de referencias, las cuales sirvieron de  base pero no fueron usadas como copia literal.</sup></sub></center>"
   ]
  }
 ],
 "metadata": {
  "language_info": {
   "name": "python"
  },
  "orig_nbformat": 4
 },
 "nbformat": 4,
 "nbformat_minor": 2
}
